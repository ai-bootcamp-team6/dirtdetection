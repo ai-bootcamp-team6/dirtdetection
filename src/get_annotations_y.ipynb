{
 "cells": [
  {
   "cell_type": "code",
   "execution_count": 1,
   "metadata": {},
   "outputs": [],
   "source": [
    "import pandas as pd"
   ]
  },
  {
   "cell_type": "code",
   "execution_count": 5,
   "metadata": {},
   "outputs": [],
   "source": [
    "def get_annotations_label(input_directory: str, output_directory: str):\n",
    "    \"\"\"get the annotations of the y label\n",
    "\n",
    "    Args:\n",
    "        input_directory (_type_): original y label for csv\n",
    "        output_directory (_type_): for csv\n",
    "    \"\"\"\n",
    "    y_val = pd.read_csv(input_directory, header = None)\n",
    "    y_val.columns = [\"file_name\", \"xmin\", \"ymin\", \"xmax\", \"ymax\", \"class\"]\n",
    "    y_val[\"width\"] = 1024\n",
    "    y_val[\"height\"] = 1280\n",
    "    y_val[\"class\"] = y_val[\"class\"].map({\"dirt\":\"dirt\"}).fillna(\"others\")   \n",
    "    y_val_cleaned = y_val[[\"file_name\", \"width\", \"height\", \"class\", \"xmin\", \"ymin\", \"xmax\", \"ymax\"]]\n",
    "    y_val_cleaned.to_csv(output_directory, index = False)"
   ]
  },
  {
   "cell_type": "code",
   "execution_count": 6,
   "metadata": {},
   "outputs": [],
   "source": [
    "get_annotations_label(\"images/processed/trg_img_annos.csv\", \"images/processed/annotated.csv\")"
   ]
  }
 ],
 "metadata": {
  "interpreter": {
   "hash": "c7cde4e8e290440d606ce122d36319642a817a677924b1f81839b0470b718aed"
  },
  "kernelspec": {
   "display_name": "Python 3.9.12 ('aiapminiproj')",
   "language": "python",
   "name": "python3"
  },
  "language_info": {
   "codemirror_mode": {
    "name": "ipython",
    "version": 3
   },
   "file_extension": ".py",
   "mimetype": "text/x-python",
   "name": "python",
   "nbconvert_exporter": "python",
   "pygments_lexer": "ipython3",
   "version": "3.9.12"
  },
  "orig_nbformat": 4
 },
 "nbformat": 4,
 "nbformat_minor": 2
}
